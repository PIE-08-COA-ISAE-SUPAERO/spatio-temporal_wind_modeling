{
 "cells": [
  {
   "cell_type": "markdown",
   "metadata": {},
   "source": [
    "#                                Manipulation de fichiers MNT"
   ]
  },
  {
   "cell_type": "markdown",
   "metadata": {},
   "source": [
    "On peut récuperer les fichiers MNT depuis les liens suivants:\n",
    "- La [BD ALTI®](https://geoservices.ign.fr/documentation/diffusion/index.html#tab-3) produite par l’IGN en version Opendata à 75m,\n",
    "- L’[EU-DEM](https://www.eea.europa.eu/data-and-maps/data/copernicus-land-monitoring-service-eu-dem) disposition sur l’intégralité de l’Europe à 30m,\n",
    "- Le [STRM](https://www2.jpl.nasa.gov/srtm/) par la NASA à 30m.\n",
    "\n",
    "Sur [data.gouv.fr](https://www.data.gouv.fr/fr/search/?q=mnt) il y a également de multiple jeux de données à l'échelles locales pouvant par exemple aller jusqu’à une résolution de 5m."
   ]
  },
  {
   "cell_type": "markdown",
   "metadata": {},
   "source": [
    "On va utilise le [RGE BD TOPO® v3.0 – Haute-Garonne 03/2019](https://www.data.gouv.fr/fr/datasets/rge-bd-topo-v30-haute-garonne-032019/)"
   ]
  },
  {
   "cell_type": "code",
   "execution_count": null,
   "metadata": {},
   "outputs": [],
   "source": []
  }
 ],
 "metadata": {
  "kernelspec": {
   "display_name": "Python 3",
   "language": "python",
   "name": "python3"
  },
  "language_info": {
   "codemirror_mode": {
    "name": "ipython",
    "version": 3
   },
   "file_extension": ".py",
   "mimetype": "text/x-python",
   "name": "python",
   "nbconvert_exporter": "python",
   "pygments_lexer": "ipython3",
   "version": "3.8.2"
  }
 },
 "nbformat": 4,
 "nbformat_minor": 4
}
