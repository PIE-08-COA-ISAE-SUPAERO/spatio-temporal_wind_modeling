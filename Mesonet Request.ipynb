{
 "cells": [
  {
   "cell_type": "code",
   "execution_count": null,
   "metadata": {},
   "outputs": [],
   "source": [
    "'''\n",
    "Le lien\n",
    "    https://developers.synopticdata.com/\n",
    "    https://www.ncdc.noaa.gov/data-access\n",
    "    \n",
    "La liste des stations\n",
    "    https://www1.ncdc.noaa.gov/pub/data/noaa/isd-history.txt\n",
    "    \n",
    "'''"
   ]
  },
  {
   "cell_type": "code",
   "execution_count": 1,
   "metadata": {},
   "outputs": [],
   "source": [
    "'''\n",
    "    Les imports\n",
    "'''\n",
    "import requests, os\n",
    "import matplotlib.pyplot as plt"
   ]
  },
  {
   "cell_type": "code",
   "execution_count": 2,
   "metadata": {},
   "outputs": [],
   "source": [
    "def requete(station_type = \"stid\", station_id=\"KLAX\", start = \"\", stop = \"\", **arg_secondaires):\n",
    "    \n",
    "    API_TOKEN = \"d48d78ccfbc04fc397146217412d13c2\"\n",
    "    API_ROOT = \"https://api.synopticdata.com/v2/\"\n",
    "    \n",
    "    if start == \"\" and stop == \"\" :\n",
    "        type_requete = \"stations/latest\"\n",
    "        api_arguments = {\"token\":API_TOKEN,\"stid\":station_id}\n",
    "    else :\n",
    "        type_requete = \"stations/timeseries\"\n",
    "        api_arguments = {\"token\":API_TOKEN,station_type:station_id, \"start\":start,\"end\":stop}\n",
    "    \n",
    "    for key, val in arg_secondaires.items():\n",
    "        api_arguments[key] = val\n",
    "    \n",
    "    api_request_url = os.path.join(API_ROOT, type_requete)\n",
    "    \n",
    "    return requests.get(api_request_url, params=api_arguments).json()\n",
    "    "
   ]
  },
  {
   "cell_type": "code",
   "execution_count": 23,
   "metadata": {},
   "outputs": [],
   "source": [
    "def date_date2str(annee, mois, jour, heure, minute):    \n",
    "    if mois < 10 : mois = '0' + str(mois)\n",
    "    if jour < 10 : jour = '0' + str(jour)\n",
    "    if minute == 0 : \n",
    "        return int(str(annee) + str(mois) + str(jour) + str(heure) + '00')\n",
    "    else :\n",
    "         return int(str(annee) + str(mois) + str(jour) + str(heure) + str(minute))\n",
    "        \n",
    "def date_str2date(date):\n",
    "    date = str(date)\n",
    "    return date[0:4] + \"-\"+ date[4:6] + \"-\" + date[6:8] + \" / \" + date[8:10] + \":\" + date[10:12]"
   ]
  },
  {
   "cell_type": "code",
   "execution_count": 4,
   "metadata": {},
   "outputs": [],
   "source": [
    "def plot(data):\n",
    "    wind = x[\"STATION\"][0][\"OBSERVATIONS\"][\"wind_speed_set_1\"]\n",
    "    date = x[\"STATION\"][0][\"OBSERVATIONS\"][\"date_time\"]\n",
    "    plt.figure()\n",
    "    plt.plot(date, wind)\n",
    "    \n",
    "    plt.xlabel(\"date\")\n",
    "    plt.ylabel(\"m/s\")\n",
    "    \n",
    "    plt.show()"
   ]
  },
  {
   "cell_type": "code",
   "execution_count": 25,
   "metadata": {},
   "outputs": [],
   "source": [
    "def print_data(data, start, stop):\n",
    "    root = data[\"STATION\"][0]\n",
    "    print('start :', date_str2date(start))\n",
    "    print('stop :',date_str2date(stop))\n",
    "    for key, val in root.items():\n",
    "        if key == \"SENSOR_VARIABLES\" or key == \"OBSERVATIONS\" or key == \"STATE\" or key == \"RESTRICTED\" or key == \"QC_FLAGGED\" :\n",
    "            continue \n",
    "        else :\n",
    "            print(key, \":\", val)"
   ]
  },
  {
   "cell_type": "code",
   "execution_count": 26,
   "metadata": {},
   "outputs": [
    {
     "name": "stdout",
     "output_type": "stream",
     "text": [
      "start : 2020-12-20 / 10:00\n",
      "stop : 2021-01-03 / 10:00\n",
      "STATUS : ACTIVE\n",
      "MNET_ID : 239\n",
      "PERIOD_OF_RECORD : {'start': '2018-10-26T14:35:00Z', 'end': '2021-01-04T18:30:00Z'}\n",
      "ELEVATION : 499\n",
      "NAME : Toulouse-Blagnac Airport\n",
      "STID : LFBO\n",
      "ELEV_DEM : 498.7\n",
      "LONGITUDE : 1.36382\n",
      "LATITUDE : 43.62910\n",
      "TIMEZONE : Europe/Paris\n",
      "ID : 73674\n"
     ]
    },
    {
     "data": {
      "image/png": "[encoded data removed]",
      "text/plain": [
       "<Figure size 432x288 with 1 Axes>"
      ]
     },
     "metadata": {
      "needs_background": "light"
     },
     "output_type": "display_data"
    }
   ],
   "source": [
    "start = date_date2str(2020,12,20,10,00)\n",
    "stop = date_date2str(2021,1,3,10,00)\n",
    "stat_id = \"LFBO\"\n",
    "x = requete(station_id = stat_id, start = start, stop = stop, units = \"metric\")\n",
    "if x[\"SUMMARY\"][\"RESPONSE_MESSAGE\"] == \"OK\":\n",
    "    print_data(data = x, start = start, stop = stop)\n",
    "    plot(x)\n",
    "else:\n",
    "    print(x)"
   ]
  }
 ],
 "metadata": {
  "kernelspec": {
   "display_name": "Python 3",
   "language": "python",
   "name": "python3"
  },
  "language_info": {
   "codemirror_mode": {
    "name": "ipython",
    "version": 3
   },
   "file_extension": ".py",
   "mimetype": "text/x-python",
   "name": "python",
   "nbconvert_exporter": "python",
   "pygments_lexer": "ipython3",
   "version": "3.8.5"
  }
 },
 "nbformat": 4,
 "nbformat_minor": 4
}
